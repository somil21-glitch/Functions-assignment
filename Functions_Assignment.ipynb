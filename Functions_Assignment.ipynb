{
  "nbformat": 4,
  "nbformat_minor": 0,
  "metadata": {
    "colab": {
      "provenance": []
    },
    "kernelspec": {
      "name": "python3",
      "display_name": "Python 3"
    },
    "language_info": {
      "name": "python"
    }
  },
  "cells": [
    {
      "cell_type": "markdown",
      "source": [
        "FUNCTIONS QUESTIONS"
      ],
      "metadata": {
        "id": "DexWwnj-0KSg"
      }
    },
    {
      "cell_type": "code",
      "source": [
        "#QUESTION 1. What is the difference between a function and a method in Python?\n",
        "\n",
        "\"\"\"Functions are defined outside of classes, while methods are defined inside classes.\n",
        " function ex:\n",
        "def greet(name):\n",
        "print(\"Hello\", name \"welcome to the chat!\")\n",
        "greet(john)\n",
        "method ex:\n",
        "def __init__(self, name):\n",
        "       self.name = name\n",
        "    def greet(self):\n",
        "\n",
        "        print(f\"Hello, my name is {self.name}!\")\"\"\"\n"
      ],
      "metadata": {
        "colab": {
          "base_uri": "https://localhost:8080/",
          "height": 36
        },
        "id": "n-ggJp3-0mYU",
        "outputId": "72141de2-7137-44cc-df63-3d585dc3a961"
      },
      "execution_count": null,
      "outputs": [
        {
          "output_type": "execute_result",
          "data": {
            "text/plain": [
              "'def __init__(self, name):\\n       self.name = name\\n    def greet(self):\\n\\n        print(f\"Hello, my name is {self.name}!\")'"
            ],
            "application/vnd.google.colaboratory.intrinsic+json": {
              "type": "string"
            }
          },
          "metadata": {},
          "execution_count": 28
        }
      ]
    },
    {
      "cell_type": "code",
      "source": [
        "#QUESTION 2. Explain the concept of function arguments and parameters in Python.\n",
        "\n",
        "\"\"\" parameters are variables in a function definition, while arguments are the values passed to the function when it's called.\n",
        " function arguement ex:\n",
        "def my_function(fname, lname)\n",
        "my_function(\"Emil\", \"Refsnes\")\n",
        "\n",
        " parameter example ex:\n",
        "def my_function(fname, lname):\n",
        "  print(fname + \" \" + lname)\n",
        "\n",
        "my_function(\"Emil\", \"Refsnes\")\"\"\"\n"
      ],
      "metadata": {
        "colab": {
          "base_uri": "https://localhost:8080/",
          "height": 36
        },
        "id": "1X3AJGtDIJlV",
        "outputId": "25105920-a064-44da-ba99-c21989e4a003"
      },
      "execution_count": null,
      "outputs": [
        {
          "output_type": "execute_result",
          "data": {
            "text/plain": [
              "'def my_function(fname, lname):\\n  print(fname + \" \" + lname)\\n\\nmy_function(\"Emil\", \"Refsnes\")'"
            ],
            "application/vnd.google.colaboratory.intrinsic+json": {
              "type": "string"
            }
          },
          "metadata": {},
          "execution_count": 29
        }
      ]
    },
    {
      "cell_type": "code",
      "source": [
        "#QUESTION 3. What are the different ways to define and call a function in Python.\n",
        "\n",
        "\"\"\" To define  use the def keyword, followed by the function name, parameters, and a colon.\n",
        " For example: def greet(name):\n",
        " And to call a function we can use the function name followed by parentheses:\n",
        " For example: my_function()\"\"\""
      ],
      "metadata": {
        "id": "EMxU0de4IOXr"
      },
      "execution_count": null,
      "outputs": []
    },
    {
      "cell_type": "code",
      "source": [
        "#QUESTION 4. What is the purpose of the `return` statement in a Python function?\n",
        "\n",
        "\"\"\"End the function: The return statement marks the end of a function's execution.\n",
        "Return a value: The return statement specifies the value or values to pass back from the function to the calling function.\n",
        "Resume execution: Execution resumes in the calling function at the point immediately following the call.\n",
        "example : def details_2():\n",
        "name = input(\"please write your name: \")\n",
        "country = input(\"please write your country: \")\n",
        "return name, country\n",
        "'riyaz, india'\"\"\""
      ],
      "metadata": {
        "id": "Z_2N2IYAITis"
      },
      "execution_count": null,
      "outputs": []
    },
    {
      "cell_type": "code",
      "source": [
        "#QUESTION 5.  What are iterators in Python and how do they differ from iterables?\n",
        "\n",
        "\"\"\"Iterator in python is an object that is used to iterate over iterable objects like lists, tuples, dicts, and sets. The\n",
        "iterator object is initialized using the `iter()` method. It uses the `next()` method for iteration.\n",
        "list = (1, 2, 3, 4, 5)\n",
        "iterator = iter(list)\n",
        "1 = next(iterator)\n",
        "2 = next(iterator)\n",
        "3 = next(iterator)\n",
        "4 = next(iterator)\n",
        "5 = next(iterator)\n",
        "\"\"\""
      ],
      "metadata": {
        "id": "RvRt_ZNRIWRz"
      },
      "execution_count": null,
      "outputs": []
    },
    {
      "cell_type": "code",
      "source": [
        "#QUESTION 6. Explain the concept of generators in Python and how they are defined.\n",
        "\n",
        "\"\"\"Generator functions in Python are a way to create iterators in a more concise and memory-efficient manner. These functions allow you to iterate over a potentially large sequence of data without loading the entire\n",
        "sequence into memory.\n",
        "The main difference between a regular function and a generator function is that the latter uses the yield\n",
        "keyword to produce a series of values over time, one at a time, rather than returning a single result.\n",
        "For example: def pw_generator():\n",
        "yield 1\n",
        "yield 2\n",
        "yield 3\n",
        "# Using the generator\n",
        "generator = pw_generator()\n",
        "print(next(generator)) # Output: 1\n",
        "print(next(generator)) # Output: 2\n",
        "print(next(generator)) # Output: 3\"\"\"\n"
      ],
      "metadata": {
        "id": "g9X-p9uNIe9a"
      },
      "execution_count": null,
      "outputs": []
    },
    {
      "cell_type": "code",
      "source": [
        "#QUESTION 7. What are the advantages of using generators over regular functions?\n",
        "\n",
        "\"\"\"Use of yield: Instead of using return to send a value back to the caller, a generator function uses ‘yield’.\n",
        "When the generator function encounters a ‘yield’ statement, it returns the value specified in the yield and\n",
        "pauses its execution state. The next time the generator is called, it resumes from where it left off.\n",
        "\n",
        "Lazy Evaluation: Generator functions follow the concept of lazy evaluation. This means that the values are\n",
        "generated on-the-fly and only when requested. This is particularly useful for working with large datasets or\n",
        "infinite sequences.\n",
        "\n",
        "Memory Efficiency: Generators are memory-efficient because they don't store all values in memory at once.\n",
        "Each value is generated and consumed one at a time, making them suitable for working with large datasets or\n",
        "when memory usage is a concern.\"\"\"\n",
        "\n",
        "\n"
      ],
      "metadata": {
        "id": "KSPVOaIOIfwK"
      },
      "execution_count": null,
      "outputs": []
    },
    {
      "cell_type": "code",
      "source": [
        "#QUESTION 8.  What is a lambda function in Python and when is it typically used?\n",
        "\n",
        "\"\"\"A lambda function in Python is a concise way to create anonymous functions, also known as lambda\n",
        "expressionsp\n",
        " Unlike regular functions defined using the def keyword, lambda functions are often used for short-term\n",
        "operations and are defined in a single line.\n",
        "The basic syntax for lamda ex: add = lambda x, y: x + y\"\"\""
      ],
      "metadata": {
        "colab": {
          "base_uri": "https://localhost:8080/",
          "height": 72
        },
        "id": "EnoAmcr3Ig8C",
        "outputId": "47496b6b-3ee4-4cd8-d83b-9dedb7c7df9f"
      },
      "execution_count": null,
      "outputs": [
        {
          "output_type": "execute_result",
          "data": {
            "text/plain": [
              "'A lambda function in Python is a concise way to create anonymous functions, also known as lambda\\nexpressionsp\\n Unlike regular functions defined using the def keyword, lambda functions are often used for short-term\\noperations and are defined in a single line.\\nThe basic syntax for lamda ex: add = lambda x, y: x + y'"
            ],
            "application/vnd.google.colaboratory.intrinsic+json": {
              "type": "string"
            }
          },
          "metadata": {},
          "execution_count": 32
        }
      ]
    },
    {
      "cell_type": "code",
      "source": [
        "#QUESTION 9. Explain the purpose and usage of the `map()` function in Python.\n",
        "\n",
        "\"\"\"The `map()` function executes a specified function for each item in an `iterable`. The item is sent to the\n",
        "function as a parameter.\n",
        "The map() function in Python is a built-in function that applies a given function to all the items in an iterable\n",
        "(e.g., a list) and returns an iterable map object (an iterator) of the results.\n",
        "map(function, iterable, ...)\"\"\""
      ],
      "metadata": {
        "colab": {
          "base_uri": "https://localhost:8080/",
          "height": 72
        },
        "id": "PYbm7cKGIh3K",
        "outputId": "355f4294-0059-477d-a5f5-9240e3bf86b2"
      },
      "execution_count": null,
      "outputs": [
        {
          "output_type": "execute_result",
          "data": {
            "text/plain": [
              "'The `map()` function executes a specified function for each item in an `iterable`. The item is sent to the\\nfunction as a parameter.\\nThe map() function in Python is a built-in function that applies a given function to all the items in an iterable\\n(e.g., a list) and returns an iterable map object (an iterator) of the results.\\nmap(function, iterable, ...)'"
            ],
            "application/vnd.google.colaboratory.intrinsic+json": {
              "type": "string"
            }
          },
          "metadata": {},
          "execution_count": 33
        }
      ]
    },
    {
      "cell_type": "code",
      "source": [
        "#QUESTION 10. What is the difference between `map()`, `reduce()`, and `filter()` functions in Python?\n",
        "\n",
        "\"\"\" 'map()' function executes a specified function for each item in an `iterable`. The item is sent to the\n",
        "function as a parameter for example : map(function, iterable, ...).\n",
        "\n",
        "while `reduce()`function implements a mathematical technique commonly known as `folding` or `reduction`.\n",
        "It is a process where you reduce a list of items to a single value(cumulative value).\n",
        "Apply a function (or callable) to the first two items in an iterable and generate a partial result.\n",
        "Use that partial result, together with the third item in the iterable, to generate another partial result.\n",
        "Repeat the process until the iterable is exhausted and then return a single cumulative value.\n",
        " for example: functools.reduce(function, iterable[, initializer])\n",
        "\n",
        "where as the 'filter()' The filter() function takes two arguments: a function and an iterable.\n",
        "It applies the function to each element in the iterable and includes elements for which the function returns True in the resulting iterator\n",
        "example: filter(function, iterable)\"\"\""
      ],
      "metadata": {
        "id": "--0nijBNIjEq"
      },
      "execution_count": null,
      "outputs": []
    },
    {
      "cell_type": "code",
      "source": [
        "#QUESTION 11. Using pen & Paper write the internal mechanism for sum operation using  reduce function on this given\n",
        "#list:[47,11,42,13];\n",
        "\n",
        "# https://drive.google.com/file/d/1DsOizJbo9BYs6wyWZLMOiFdQlmeYU7KL/view?usp=sharing\n"
      ],
      "metadata": {
        "id": "Rw5fpxGMIkLy"
      },
      "execution_count": null,
      "outputs": []
    },
    {
      "cell_type": "markdown",
      "source": [
        "PRACTICAL QUESTIONS\n"
      ],
      "metadata": {
        "id": "GI_tBOKSIoke"
      }
    },
    {
      "cell_type": "code",
      "source": [
        "#QUESTION 1. Write a Python function that takes a list of numbers as input and returns the sum of all even numbers in\n",
        "#the list.\n",
        "\n",
        "def sum_even_numbers(numbers):\n",
        "  total = 0\n",
        "  for number in numbers:\n",
        "    if number % 2 == 0:\n",
        "      total += number\n",
        "  return total\n",
        "sum_even_numbers([11, 22, 33, 44, 55])"
      ],
      "metadata": {
        "id": "gfhi4oAtIs9R",
        "colab": {
          "base_uri": "https://localhost:8080/"
        },
        "outputId": "9cbb48d0-d97b-41ce-85c3-9012f962f775"
      },
      "execution_count": 1,
      "outputs": [
        {
          "output_type": "execute_result",
          "data": {
            "text/plain": [
              "66"
            ]
          },
          "metadata": {},
          "execution_count": 1
        }
      ]
    },
    {
      "cell_type": "code",
      "source": [
        "#QUESTION 2. Create a Python function that accepts a string and returns the reverse of that string.\n",
        "\n",
        "def reverse_string():\n",
        "  string = input(\"Enter a string: \")\n",
        "  reversed_string = string[::-1]\n",
        "  return reversed_string\n",
        "reverse_string()"
      ],
      "metadata": {
        "id": "Dbw9j9fiIvry",
        "colab": {
          "base_uri": "https://localhost:8080/",
          "height": 54
        },
        "outputId": "f53f616d-6a23-4c81-815b-2e58d35497ef"
      },
      "execution_count": 2,
      "outputs": [
        {
          "name": "stdout",
          "output_type": "stream",
          "text": [
            "Enter a string: functions assignment\n"
          ]
        },
        {
          "output_type": "execute_result",
          "data": {
            "text/plain": [
              "'tnemngissa snoitcnuf'"
            ],
            "application/vnd.google.colaboratory.intrinsic+json": {
              "type": "string"
            }
          },
          "metadata": {},
          "execution_count": 2
        }
      ]
    },
    {
      "cell_type": "code",
      "source": [
        "#QUESTION 3.  Implement a Python function that takes a list of integers and returns a new list containing the squares of\n",
        "#each number.\n",
        "\n",
        "def list_int(n):\n",
        "  result = []\n",
        "  for i in n:\n",
        "    result.append(i**2)\n",
        "  return result\n",
        "list_int([2, 3, 4, 7])"
      ],
      "metadata": {
        "id": "3Er3cd7VIwZi",
        "colab": {
          "base_uri": "https://localhost:8080/"
        },
        "outputId": "a4651adb-a55e-40fb-cbe6-9b04a9866132"
      },
      "execution_count": 26,
      "outputs": [
        {
          "output_type": "execute_result",
          "data": {
            "text/plain": [
              "[4, 9, 16, 49]"
            ]
          },
          "metadata": {},
          "execution_count": 26
        }
      ]
    },
    {
      "cell_type": "code",
      "source": [
        "#QUESTION 4. Write a Python function that checks if a given number is prime or not from 1 to 200.\n",
        "\n",
        "def prime_number():\n",
        "  number = int(input(\"Enter a number: \"))\n",
        "  if number < 2:\n",
        "    return False\n",
        "  for i in range(2, int(number ** 0.5) + 1):\n",
        "    if number % i == 0:\n",
        "      return False\n",
        "prime_number()"
      ],
      "metadata": {
        "id": "jhKfER_AIxV6",
        "colab": {
          "base_uri": "https://localhost:8080/"
        },
        "outputId": "c2ebb4f7-4d42-46bb-c6f6-32a98999c8bb"
      },
      "execution_count": 9,
      "outputs": [
        {
          "name": "stdout",
          "output_type": "stream",
          "text": [
            "Enter a number: 4\n"
          ]
        },
        {
          "output_type": "execute_result",
          "data": {
            "text/plain": [
              "False"
            ]
          },
          "metadata": {},
          "execution_count": 9
        }
      ]
    },
    {
      "cell_type": "code",
      "source": [
        "#QUESTION 5. Create an iterator class in Python that generates the Fibonacci sequence up to a specified number of\n",
        "#terms.\n",
        "\n",
        "def fibonacci_sequence(n):\n",
        "  a, b = 0, 1\n",
        "  for _ in range(n):\n",
        "    yield a\n",
        "    a, b = b, a + b\n",
        "for number in fibonacci_sequence(10):\n",
        "  print(number)\n",
        ""
      ],
      "metadata": {
        "id": "pqSTt7Z8IyjB",
        "colab": {
          "base_uri": "https://localhost:8080/"
        },
        "outputId": "e5480062-8b86-4d56-c5a7-b8f1017324b6"
      },
      "execution_count": 10,
      "outputs": [
        {
          "output_type": "stream",
          "name": "stdout",
          "text": [
            "0\n",
            "1\n",
            "1\n",
            "2\n",
            "3\n",
            "5\n",
            "8\n",
            "13\n",
            "21\n",
            "34\n"
          ]
        }
      ]
    },
    {
      "cell_type": "code",
      "source": [
        "#QUESTION 6. Write a generator function in Python that yields the powers of 2 up to a given exponent.\n",
        "\n",
        "def power_of_2(exponent):\n",
        "  for i in range(exponent + 1):\n",
        "    yield 2 ** i\n",
        "for number in power_of_2(5):\n",
        "  print(number)"
      ],
      "metadata": {
        "id": "g0zcHl18I0Hi",
        "colab": {
          "base_uri": "https://localhost:8080/"
        },
        "outputId": "b36930f4-984a-47bb-8909-d31e29572dbb"
      },
      "execution_count": 11,
      "outputs": [
        {
          "output_type": "stream",
          "name": "stdout",
          "text": [
            "1\n",
            "2\n",
            "4\n",
            "8\n",
            "16\n",
            "32\n"
          ]
        }
      ]
    },
    {
      "cell_type": "code",
      "source": [
        "#QUESTION 7.  Implement a generator function that reads a file line by line and yields each line as a string.\n",
        "\n",
        "\n",
        "def the_no_gen(n):\n",
        "  for i in range(n):\n",
        "    yield i**2\n",
        "gen = the_no_gen(10)\n",
        "next(gen)\n"
      ],
      "metadata": {
        "id": "_4X1sAy_I1By",
        "colab": {
          "base_uri": "https://localhost:8080/"
        },
        "outputId": "052608b9-482e-4074-8307-753258206e9c"
      },
      "execution_count": 39,
      "outputs": [
        {
          "output_type": "execute_result",
          "data": {
            "text/plain": [
              "0"
            ]
          },
          "metadata": {},
          "execution_count": 39
        }
      ]
    },
    {
      "cell_type": "code",
      "source": [
        "next(gen)"
      ],
      "metadata": {
        "colab": {
          "base_uri": "https://localhost:8080/"
        },
        "id": "UX8fGgNZg9bg",
        "outputId": "6e8fa22b-fe21-49e9-ac9c-7bc07de3e5f3"
      },
      "execution_count": 40,
      "outputs": [
        {
          "output_type": "execute_result",
          "data": {
            "text/plain": [
              "1"
            ]
          },
          "metadata": {},
          "execution_count": 40
        }
      ]
    },
    {
      "cell_type": "code",
      "source": [
        "#QUESTION 8. Use a lambda function in Python to sort a list of tuples based on the second element of each tuple.\n",
        "\n",
        "Tuples = ([\"hello\", \"how\", \"where\",\"there\", \"other\"])\n",
        "sorted_tuples  = sorted(Tuples, key=lambda x: x[1])\n",
        "print(sorted_tuples)"
      ],
      "metadata": {
        "id": "qbAloT3CI3WC",
        "colab": {
          "base_uri": "https://localhost:8080/"
        },
        "outputId": "44950565-0f5a-4ba5-fdf3-8a136ba716a8"
      },
      "execution_count": 41,
      "outputs": [
        {
          "output_type": "stream",
          "name": "stdout",
          "text": [
            "['hello', 'where', 'there', 'how', 'other']\n"
          ]
        }
      ]
    },
    {
      "cell_type": "code",
      "source": [
        "#QUESTION 9.  Write a Python program that uses `map()` to convert a list of temperatures from Celsius to Fahrenheit.\n",
        "celsius = [35]\n",
        "def celsius_to_fahrenheit(celsius):\n",
        " return (celsius * 9/5) + 32\n",
        "list(map(celsius_to_fahrenheit, celsius))\n",
        "\n"
      ],
      "metadata": {
        "id": "QSvWeD-AI4vx",
        "colab": {
          "base_uri": "https://localhost:8080/"
        },
        "outputId": "31686463-b6ae-4530-d365-8376e78dc695"
      },
      "execution_count": 51,
      "outputs": [
        {
          "output_type": "execute_result",
          "data": {
            "text/plain": [
              "[95.0]"
            ]
          },
          "metadata": {},
          "execution_count": 51
        }
      ]
    },
    {
      "cell_type": "code",
      "source": [
        "#QUESTION 10.  Create a Python program that uses `filter()` to remove all the vowels from a given string.\n",
        "\n",
        "def remove_vowels(string):\n",
        "  vowels = \"aeiouAEIOU\"\n",
        "  filtered_string = \"\"\n",
        "  for char in string:\n",
        "    if char not in vowels:\n",
        "      filtered_string += char\n",
        "  return filtered_string\n",
        "remove_vowels(\"The sky is beautuiful when blue\")"
      ],
      "metadata": {
        "id": "qD_t_zx0I6JC",
        "colab": {
          "base_uri": "https://localhost:8080/",
          "height": 36
        },
        "outputId": "4ba58729-c43d-4dd8-8a56-ae135a85a89e"
      },
      "execution_count": 55,
      "outputs": [
        {
          "output_type": "execute_result",
          "data": {
            "text/plain": [
              "'Th sky s btfl whn bl'"
            ],
            "application/vnd.google.colaboratory.intrinsic+json": {
              "type": "string"
            }
          },
          "metadata": {},
          "execution_count": 55
        }
      ]
    },
    {
      "cell_type": "code",
      "source": [
        "#QUESTION 11. ) Imagine an accounting routine used in a book shop. It works on a list with sublists, which look like this:\n",
        "#Write a Python program, which returns a list with 2-tuples. Each tuple consists of the order number and the\n",
        "#product of the price per item and the quantity. The product should be increased by 10,- € if the value of the\n",
        "#order is smaller than 100,00 €.\n",
        "\n",
        "#Write a Python program using lambda and map.\n",
        "\n",
        "order = [[34587,'Learning Python','Mark Lutz',4,40.95],\n",
        "         [98762,'Programming Python','Mark Lutz',5,56.80],\n",
        "         [77226,'Head First Python','Paul Barry',3,32.95],\n",
        "         [88112,'Einführung in Python3','Bernd Klein',3,24.99]]\n",
        "lists = []\n",
        "for item in order:\n",
        "    if item[-1]*item[-2] < 100:\n",
        "        lists.append((item[0],item[-1]*item[-2]+10))\n",
        "    else:\n",
        "        lists.append((item[0],item[-1]*item[-2]))\n",
        "\n",
        "print(\"Order Summary: \",lists)\n",
        "\n",
        "print(\"Order Summary: \",list(map(lambda x: (x[0],x[-1]) if x[-1]*x[-2] > 100 else x[-1]*x[-2]+10, order)))\n",
        "print(\"Order Summary: \",[(item[0],item[-1]) if item[-1]*item[-2] > 100 else (item[0],item[-1]*item[-2]+10) for item in order])"
      ],
      "metadata": {
        "id": "G1keJuT1I7Z6",
        "colab": {
          "base_uri": "https://localhost:8080/"
        },
        "outputId": "d548bef5-b10b-4419-813c-be677d2b1d88"
      },
      "execution_count": 58,
      "outputs": [
        {
          "output_type": "stream",
          "name": "stdout",
          "text": [
            "Order Summary:  [(34587, 163.8), (98762, 284.0), (77226, 108.85000000000001), (88112, 84.97)]\n",
            "Order Summary:  [(34587, 40.95), (98762, 56.8), 108.85000000000001, 84.97]\n",
            "Order Summary:  [(34587, 40.95), (98762, 56.8), (77226, 108.85000000000001), (88112, 84.97)]\n"
          ]
        }
      ]
    },
    {
      "cell_type": "code",
      "source": [],
      "metadata": {
        "id": "4BvVY5VQI-Qb"
      },
      "execution_count": null,
      "outputs": []
    }
  ]
}